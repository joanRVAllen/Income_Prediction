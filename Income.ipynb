{
 "cells": [
  {
   "cell_type": "markdown",
   "metadata": {},
   "source": [
    "# Dataset\n",
    "\n",
    "**[Income Dataset](https://www.kaggle.com/mastmustu/income)**\n",
    "\n",
    "Binary classification to predict if income is greater that $50,000"
   ]
  },
  {
   "cell_type": "markdown",
   "metadata": {},
   "source": [
    "# Import Libraries"
   ]
  },
  {
   "cell_type": "code",
   "execution_count": 212,
   "metadata": {},
   "outputs": [],
   "source": [
    "import pandas as pd\n",
    "import numpy as np\n",
    "import matplotlib.pyplot as plt\n",
    "from sklearn.pipeline import make_pipeline\n",
    "from category_encoders import OrdinalEncoder\n",
    "from sklearn.impute import SimpleImputer\n",
    "from sklearn.preprocessing import StandardScaler\n",
    "from sklearn.ensemble import RandomForestClassifier\n",
    "from sklearn.linear_model import LogisticRegression\n",
    "from sklearn.metrics import plot_confusion_matrix, classification_report, plot_roc_curve, roc_auc_score"
   ]
  },
  {
   "cell_type": "code",
   "execution_count": 213,
   "metadata": {},
   "outputs": [],
   "source": [
    "# import training and test data\n",
    "\n",
    "train = pd.read_csv('train.csv')\n",
    "test = pd.read_csv('test.csv')"
   ]
  },
  {
   "cell_type": "markdown",
   "metadata": {},
   "source": [
    "# I. Wrangle Data"
   ]
  },
  {
   "cell_type": "code",
   "execution_count": 214,
   "metadata": {},
   "outputs": [],
   "source": [
    "#wrangle function\n",
    "\n",
    "def wrangle(filename):\n",
    "    df = filename.copy()\n",
    "    \n",
    "    #drop duplicate column\n",
    "    drop_cols = ['education','native-country','workclass','fnlwgt']\n",
    "    df.drop(columns=drop_cols, inplace=True)\n",
    "    \n",
    "    #change 'gender' to binary values\n",
    "    df['gender'] = df['gender'].apply(lambda x: 1 if x=='Male' else 0)\n",
    "    \n",
    "    return df\n",
    "\n",
    "df = wrangle(train)"
   ]
  },
  {
   "cell_type": "code",
   "execution_count": 215,
   "metadata": {},
   "outputs": [
    {
     "data": {
      "text/html": [
       "<div>\n",
       "<style scoped>\n",
       "    .dataframe tbody tr th:only-of-type {\n",
       "        vertical-align: middle;\n",
       "    }\n",
       "\n",
       "    .dataframe tbody tr th {\n",
       "        vertical-align: top;\n",
       "    }\n",
       "\n",
       "    .dataframe thead th {\n",
       "        text-align: right;\n",
       "    }\n",
       "</style>\n",
       "<table border=\"1\" class=\"dataframe\">\n",
       "  <thead>\n",
       "    <tr style=\"text-align: right;\">\n",
       "      <th></th>\n",
       "      <th>age</th>\n",
       "      <th>educational-num</th>\n",
       "      <th>marital-status</th>\n",
       "      <th>occupation</th>\n",
       "      <th>relationship</th>\n",
       "      <th>race</th>\n",
       "      <th>gender</th>\n",
       "      <th>capital-gain</th>\n",
       "      <th>capital-loss</th>\n",
       "      <th>hours-per-week</th>\n",
       "      <th>income_&gt;50K</th>\n",
       "    </tr>\n",
       "  </thead>\n",
       "  <tbody>\n",
       "    <tr>\n",
       "      <th>0</th>\n",
       "      <td>67</td>\n",
       "      <td>16</td>\n",
       "      <td>Divorced</td>\n",
       "      <td>Exec-managerial</td>\n",
       "      <td>Not-in-family</td>\n",
       "      <td>White</td>\n",
       "      <td>1</td>\n",
       "      <td>99999</td>\n",
       "      <td>0</td>\n",
       "      <td>60</td>\n",
       "      <td>1</td>\n",
       "    </tr>\n",
       "    <tr>\n",
       "      <th>1</th>\n",
       "      <td>17</td>\n",
       "      <td>8</td>\n",
       "      <td>Never-married</td>\n",
       "      <td>Other-service</td>\n",
       "      <td>Own-child</td>\n",
       "      <td>White</td>\n",
       "      <td>1</td>\n",
       "      <td>0</td>\n",
       "      <td>0</td>\n",
       "      <td>15</td>\n",
       "      <td>0</td>\n",
       "    </tr>\n",
       "    <tr>\n",
       "      <th>2</th>\n",
       "      <td>31</td>\n",
       "      <td>13</td>\n",
       "      <td>Married-civ-spouse</td>\n",
       "      <td>Exec-managerial</td>\n",
       "      <td>Husband</td>\n",
       "      <td>White</td>\n",
       "      <td>1</td>\n",
       "      <td>0</td>\n",
       "      <td>0</td>\n",
       "      <td>40</td>\n",
       "      <td>1</td>\n",
       "    </tr>\n",
       "    <tr>\n",
       "      <th>3</th>\n",
       "      <td>58</td>\n",
       "      <td>4</td>\n",
       "      <td>Married-civ-spouse</td>\n",
       "      <td>Transport-moving</td>\n",
       "      <td>Husband</td>\n",
       "      <td>White</td>\n",
       "      <td>1</td>\n",
       "      <td>0</td>\n",
       "      <td>0</td>\n",
       "      <td>40</td>\n",
       "      <td>0</td>\n",
       "    </tr>\n",
       "    <tr>\n",
       "      <th>4</th>\n",
       "      <td>25</td>\n",
       "      <td>10</td>\n",
       "      <td>Never-married</td>\n",
       "      <td>Other-service</td>\n",
       "      <td>Not-in-family</td>\n",
       "      <td>Black</td>\n",
       "      <td>1</td>\n",
       "      <td>0</td>\n",
       "      <td>0</td>\n",
       "      <td>40</td>\n",
       "      <td>0</td>\n",
       "    </tr>\n",
       "  </tbody>\n",
       "</table>\n",
       "</div>"
      ],
      "text/plain": [
       "   age  educational-num      marital-status        occupation   relationship  \\\n",
       "0   67               16            Divorced   Exec-managerial  Not-in-family   \n",
       "1   17                8       Never-married     Other-service      Own-child   \n",
       "2   31               13  Married-civ-spouse   Exec-managerial        Husband   \n",
       "3   58                4  Married-civ-spouse  Transport-moving        Husband   \n",
       "4   25               10       Never-married     Other-service  Not-in-family   \n",
       "\n",
       "    race  gender  capital-gain  capital-loss  hours-per-week  income_>50K  \n",
       "0  White       1         99999             0              60            1  \n",
       "1  White       1             0             0              15            0  \n",
       "2  White       1             0             0              40            1  \n",
       "3  White       1             0             0              40            0  \n",
       "4  Black       1             0             0              40            0  "
      ]
     },
     "execution_count": 215,
     "metadata": {},
     "output_type": "execute_result"
    }
   ],
   "source": [
    "df.head()"
   ]
  },
  {
   "cell_type": "markdown",
   "metadata": {},
   "source": [
    "# II. Split Data"
   ]
  },
  {
   "cell_type": "code",
   "execution_count": 216,
   "metadata": {},
   "outputs": [],
   "source": [
    "# Split into features and target sets\n",
    "\n",
    "target = 'income_>50K'\n",
    "y = df[target]\n",
    "X = df.drop(columns=target)"
   ]
  },
  {
   "cell_type": "code",
   "execution_count": 217,
   "metadata": {},
   "outputs": [],
   "source": [
    "# split into train and validation sets\n",
    "\n",
    "from sklearn.model_selection import train_test_split\n",
    "\n",
    "X_train, X_val, y_train, y_val = train_test_split(X, y, test_size=0.2, random_state=42)\n"
   ]
  },
  {
   "cell_type": "code",
   "execution_count": 218,
   "metadata": {},
   "outputs": [],
   "source": [
    "# Check datasets\n",
    "\n",
    "assert len(X_train) == int(len(X)*.8)\n",
    "assert len(y_train) == int(len(y)*.8)\n",
    "assert len(X_val) == len(X)-len(X_train)\n",
    "assert len(y_val) == len(X)-len(y_train)"
   ]
  },
  {
   "cell_type": "markdown",
   "metadata": {},
   "source": [
    "# III. Baseline"
   ]
  },
  {
   "cell_type": "code",
   "execution_count": 219,
   "metadata": {},
   "outputs": [
    {
     "name": "stdout",
     "output_type": "stream",
     "text": [
      "Baseline Accuracy:  0.761637992321911\n"
     ]
    }
   ],
   "source": [
    "print('Baseline Accuracy: ', y_train.value_counts(normalize=100).max())"
   ]
  },
  {
   "cell_type": "markdown",
   "metadata": {},
   "source": [
    "# IV. Build Model\n",
    "\n",
    "**Logistic Regression Model**"
   ]
  },
  {
   "cell_type": "code",
   "execution_count": 220,
   "metadata": {},
   "outputs": [],
   "source": [
    "model_lr = make_pipeline(OrdinalEncoder(),\n",
    "                        SimpleImputer(),\n",
    "                        StandardScaler(),\n",
    "                        LogisticRegression(n_jobs=-1))\n"
   ]
  },
  {
   "cell_type": "code",
   "execution_count": 221,
   "metadata": {},
   "outputs": [],
   "source": [
    "model_lr.fit(X_train,y_train);"
   ]
  },
  {
   "cell_type": "markdown",
   "metadata": {},
   "source": [
    "**Random Forest Classifier Model**"
   ]
  },
  {
   "cell_type": "code",
   "execution_count": 222,
   "metadata": {},
   "outputs": [],
   "source": [
    "model_rf = make_pipeline(OrdinalEncoder(),\n",
    "                      SimpleImputer(),\n",
    "                      StandardScaler(),\n",
    "                      RandomForestClassifier(n_estimators=10,\n",
    "                                             n_jobs=-1,\n",
    "                                             random_state=42)\n",
    "                     )"
   ]
  },
  {
   "cell_type": "code",
   "execution_count": 223,
   "metadata": {},
   "outputs": [],
   "source": [
    "model_rf.fit(X_train,y_train);"
   ]
  },
  {
   "cell_type": "markdown",
   "metadata": {},
   "source": [
    "## This section is for the Heroku app"
   ]
  },
  {
   "cell_type": "code",
   "execution_count": 224,
   "metadata": {},
   "outputs": [
    {
     "data": {
      "text/plain": [
       "['pipeline.joblib']"
      ]
     },
     "execution_count": 224,
     "metadata": {},
     "output_type": "execute_result"
    }
   ],
   "source": [
    "from joblib import dump\n",
    "\n",
    "dump(model_rf, 'pipeline.joblib', compress=True)"
   ]
  },
  {
   "cell_type": "code",
   "execution_count": 225,
   "metadata": {},
   "outputs": [
    {
     "name": "stdout",
     "output_type": "stream",
     "text": [
      "joblib==1.0.0\n",
      "scikit-learn==0.24.0\n",
      "category_encoders==2.2.2\n"
     ]
    }
   ],
   "source": [
    "import joblib\n",
    "import sklearn\n",
    "import category_encoders as ce\n",
    "\n",
    "print(f'joblib=={joblib.__version__}')\n",
    "print(f'scikit-learn=={sklearn.__version__}')\n",
    "print(f'category_encoders=={ce.__version__}')"
   ]
  },
  {
   "cell_type": "markdown",
   "metadata": {},
   "source": [
    "# V. Check Metrics\n",
    "\n",
    "**Logistic Regression**"
   ]
  },
  {
   "cell_type": "code",
   "execution_count": 226,
   "metadata": {},
   "outputs": [
    {
     "name": "stdout",
     "output_type": "stream",
     "text": [
      "Training Accuracy: 0.8435376084174605\n",
      "Validation Accuracy: 0.8445177434030937\n"
     ]
    }
   ],
   "source": [
    "print('Training Accuracy:', model_lr.score(X_train, y_train))\n",
    "print('Validation Accuracy:', model_lr.score(X_val, y_val))"
   ]
  },
  {
   "cell_type": "markdown",
   "metadata": {},
   "source": [
    "**Random Forest Classifier**"
   ]
  },
  {
   "cell_type": "code",
   "execution_count": 227,
   "metadata": {},
   "outputs": [
    {
     "name": "stdout",
     "output_type": "stream",
     "text": [
      "Training Accuracy: 0.9528224086449595\n",
      "Validation Accuracy: 0.8409918107370337\n"
     ]
    }
   ],
   "source": [
    "print('Training Accuracy:', model_rf.score(X_train, y_train))\n",
    "print('Validation Accuracy:', model_rf.score(X_val, y_val))"
   ]
  },
  {
   "cell_type": "markdown",
   "metadata": {},
   "source": [
    "**Confusion Matrix**"
   ]
  },
  {
   "cell_type": "code",
   "execution_count": 228,
   "metadata": {},
   "outputs": [
    {
     "data": {
      "text/plain": [
       "<sklearn.metrics._plot.confusion_matrix.ConfusionMatrixDisplay at 0x7f9ae67cd9a0>"
      ]
     },
     "execution_count": 228,
     "metadata": {},
     "output_type": "execute_result"
    },
    {
     "data": {
      "image/png": "[encoded data removed]",
      "text/plain": [
       "<Figure size 432x288 with 2 Axes>"
      ]
     },
     "metadata": {
      "needs_background": "light"
     },
     "output_type": "display_data"
    }
   ],
   "source": [
    "plot_confusion_matrix(model_rf,\n",
    "                     X_val,\n",
    "                     y_val,\n",
    "                     values_format='.0f',\n",
    "                     display_labels=['less than 50K', 'more than 50K'])"
   ]
  },
  {
   "cell_type": "markdown",
   "metadata": {},
   "source": [
    "**Logistic Regression Precision and Recall**"
   ]
  },
  {
   "cell_type": "code",
   "execution_count": 229,
   "metadata": {},
   "outputs": [
    {
     "name": "stdout",
     "output_type": "stream",
     "text": [
      "               precision    recall  f1-score   support\n",
      "\n",
      "less than 50K       0.87      0.93      0.90      6656\n",
      "more than 50K       0.73      0.57      0.64      2136\n",
      "\n",
      "     accuracy                           0.84      8792\n",
      "    macro avg       0.80      0.75      0.77      8792\n",
      " weighted avg       0.84      0.84      0.84      8792\n",
      "\n"
     ]
    }
   ],
   "source": [
    "print(classification_report(y_val,\n",
    "                           model_lr.predict(X_val),\n",
    "                           target_names=['less than 50K', 'more than 50K']))"
   ]
  },
  {
   "cell_type": "markdown",
   "metadata": {},
   "source": [
    "**Random Forest Classifier Precision and Recall**"
   ]
  },
  {
   "cell_type": "code",
   "execution_count": 230,
   "metadata": {},
   "outputs": [
    {
     "name": "stdout",
     "output_type": "stream",
     "text": [
      "               precision    recall  f1-score   support\n",
      "\n",
      "less than 50K       0.88      0.92      0.90      6656\n",
      "more than 50K       0.70      0.60      0.65      2136\n",
      "\n",
      "     accuracy                           0.84      8792\n",
      "    macro avg       0.79      0.76      0.77      8792\n",
      " weighted avg       0.83      0.84      0.84      8792\n",
      "\n"
     ]
    }
   ],
   "source": [
    "print(classification_report(y_val,\n",
    "                           model_rf.predict(X_val),\n",
    "                            target_names=['less than 50K', 'more than 50K']))"
   ]
  },
  {
   "cell_type": "markdown",
   "metadata": {},
   "source": [
    "**ROC Curve**"
   ]
  },
  {
   "cell_type": "code",
   "execution_count": 231,
   "metadata": {},
   "outputs": [
    {
     "data": {
      "image/png": "[encoded data removed]",
      "text/plain": [
       "<Figure size 432x288 with 1 Axes>"
      ]
     },
     "metadata": {
      "needs_background": "light"
     },
     "output_type": "display_data"
    }
   ],
   "source": [
    "lr = plot_roc_curve(model_lr, X_val, y_val, label = 'Logistic Regression')\n",
    "rf = plot_roc_curve(model_rf, X_val, y_val, label = 'Random Forest Classifier', ax=lr.ax_)\n",
    "plt.plot(([(0,0),(1,1)]), color='red', linestyle='--')\n",
    "plt.legend();"
   ]
  },
  {
   "cell_type": "markdown",
   "metadata": {},
   "source": [
    "**ROC-AUC Score**"
   ]
  },
  {
   "cell_type": "code",
   "execution_count": 232,
   "metadata": {},
   "outputs": [
    {
     "name": "stdout",
     "output_type": "stream",
     "text": [
      "Logistic Regression ROC-AUC:  0.7501116955668395\n",
      "Forest Regression ROC-AUC:  0.7582744751152407\n"
     ]
    }
   ],
   "source": [
    "print('Logistic Regression ROC-AUC: ', roc_auc_score(y_val, model_lr.predict(X_val)))\n",
    "print('Forest Regression ROC-AUC: ', roc_auc_score(y_val, model_rf.predict(X_val)))"
   ]
  },
  {
   "cell_type": "markdown",
   "metadata": {},
   "source": [
    "# VI. Tune Model"
   ]
  },
  {
   "cell_type": "markdown",
   "metadata": {},
   "source": [
    "Since the ROC-AUC of the Random Forest Classifier is higher, we will tune hyperparameters of the random forest model to get the highest accuracy."
   ]
  },
  {
   "cell_type": "markdown",
   "metadata": {},
   "source": [
    "**Random Forest Classifier**\n",
    "\n",
    "\n",
    "- `max_depth`\n",
    "- `max_features`\n",
    "- `n_estimators`"
   ]
  },
  {
   "cell_type": "code",
   "execution_count": 233,
   "metadata": {},
   "outputs": [],
   "source": [
    "from sklearn.model_selection import RandomizedSearchCV\n",
    "\n",
    "params = {\n",
    "    'randomforestclassifier__max_depth': range(10,100,10),\n",
    "    'randomforestclassifier__max_features': range(2,10,1),\n",
    "    'randomforestclassifier__n_estimators': range(75,85,2)\n",
    "}\n",
    "\n",
    "rand_rf = RandomizedSearchCV(model_rf,\n",
    "                             param_distributions=params,\n",
    "                             n_iter=15,\n",
    "                             n_jobs=-1,\n",
    "                             verbose=1)"
   ]
  },
  {
   "cell_type": "code",
   "execution_count": 234,
   "metadata": {},
   "outputs": [
    {
     "name": "stdout",
     "output_type": "stream",
     "text": [
      "Fitting 5 folds for each of 15 candidates, totalling 75 fits\n"
     ]
    },
    {
     "name": "stderr",
     "output_type": "stream",
     "text": [
      "/Users/joanvillar/.local/share/virtualenvs/Lambda-TXy-paXc/lib/python3.9/site-packages/category_encoders/utils.py:21: FutureWarning: is_categorical is deprecated and will be removed in a future version.  Use is_categorical_dtype instead\n",
      "  elif pd.api.types.is_categorical(cols):\n"
     ]
    },
    {
     "data": {
      "text/plain": [
       "RandomizedSearchCV(estimator=Pipeline(steps=[('ordinalencoder',\n",
       "                                              OrdinalEncoder(cols=['marital-status',\n",
       "                                                                   'occupation',\n",
       "                                                                   'relationship',\n",
       "                                                                   'race'],\n",
       "                                                             mapping=[{'col': 'marital-status',\n",
       "                                                                       'data_type': dtype('O'),\n",
       "                                                                       'mapping': Married-civ-spouse       1\n",
       "Divorced                 2\n",
       "Widowed                  3\n",
       "Never-married            4\n",
       "Separated                5\n",
       "Married-spouse-absent    6\n",
       "Married-AF-spouse        7\n",
       "NaN                     -2\n",
       "dtype: int64},\n",
       "                                                                      {'col': 'occupation',\n",
       "                                                                       'data_typ...\n",
       "                                             ('simpleimputer', SimpleImputer()),\n",
       "                                             ('standardscaler',\n",
       "                                              StandardScaler()),\n",
       "                                             ('randomforestclassifier',\n",
       "                                              RandomForestClassifier(n_estimators=10,\n",
       "                                                                     n_jobs=-1,\n",
       "                                                                     random_state=42))]),\n",
       "                   n_iter=15, n_jobs=-1,\n",
       "                   param_distributions={'randomforestclassifier__max_depth': range(10, 100, 10),\n",
       "                                        'randomforestclassifier__max_features': range(2, 10),\n",
       "                                        'randomforestclassifier__n_estimators': range(75, 85, 2)},\n",
       "                   verbose=1)"
      ]
     },
     "execution_count": 234,
     "metadata": {},
     "output_type": "execute_result"
    }
   ],
   "source": [
    "rand_rf.fit(X_train, y_train)"
   ]
  },
  {
   "cell_type": "code",
   "execution_count": 235,
   "metadata": {},
   "outputs": [
    {
     "data": {
      "text/plain": [
       "{'randomforestclassifier__n_estimators': 83,\n",
       " 'randomforestclassifier__max_features': 7,\n",
       " 'randomforestclassifier__max_depth': 10}"
      ]
     },
     "execution_count": 235,
     "metadata": {},
     "output_type": "execute_result"
    }
   ],
   "source": [
    "rand_rf.best_params_"
   ]
  },
  {
   "cell_type": "code",
   "execution_count": 236,
   "metadata": {},
   "outputs": [
    {
     "data": {
      "text/plain": [
       "0.8636997014076495"
      ]
     },
     "execution_count": 236,
     "metadata": {},
     "output_type": "execute_result"
    }
   ],
   "source": [
    "rand_rf.best_score_"
   ]
  },
  {
   "cell_type": "code",
   "execution_count": 246,
   "metadata": {},
   "outputs": [
    {
     "name": "stdout",
     "output_type": "stream",
     "text": [
      "Training Accuracy:  0.8718043509171051\n",
      "Validation Accuracy:  0.8620336669699727\n"
     ]
    }
   ],
   "source": [
    "print('Training Accuracy: ',rand_rf.score(X_train,y_train))\n",
    "print('Validation Accuracy: ',rand_rf.score(X_val,y_val))"
   ]
  },
  {
   "cell_type": "code",
   "execution_count": 238,
   "metadata": {},
   "outputs": [
    {
     "data": {
      "text/plain": [
       "0.8620336669699727"
      ]
     },
     "execution_count": 238,
     "metadata": {},
     "output_type": "execute_result"
    }
   ],
   "source": [
    "rand_rf.score(X_val,y_val)"
   ]
  },
  {
   "cell_type": "markdown",
   "metadata": {},
   "source": [
    "# VII. Communicate Results"
   ]
  },
  {
   "cell_type": "code",
   "execution_count": 239,
   "metadata": {},
   "outputs": [
    {
     "data": {
      "text/plain": [
       "<AxesSubplot:>"
      ]
     },
     "execution_count": 239,
     "metadata": {},
     "output_type": "execute_result"
    },
    {
     "data": {
      "image/png": "[encoded data removed]",
      "text/plain": [
       "<Figure size 432x288 with 1 Axes>"
      ]
     },
     "metadata": {
      "needs_background": "light"
     },
     "output_type": "display_data"
    }
   ],
   "source": [
    "coefs = model_lr.named_steps['logisticregression'].coef_[0]\n",
    "features = model_lr.named_steps['ordinalencoder'].get_feature_names()\n",
    "pd.Series(coefs, index=features).sort_values().plot(kind='barh')"
   ]
  },
  {
   "cell_type": "code",
   "execution_count": 240,
   "metadata": {},
   "outputs": [
    {
     "data": {
      "text/plain": [
       "<AxesSubplot:>"
      ]
     },
     "execution_count": 240,
     "metadata": {},
     "output_type": "execute_result"
    },
    {
     "data": {
      "image/png": "[encoded data removed]",
      "text/plain": [
       "<Figure size 432x288 with 1 Axes>"
      ]
     },
     "metadata": {
      "needs_background": "light"
     },
     "output_type": "display_data"
    }
   ],
   "source": [
    "# make feature importance\n",
    "\n",
    "importances = model_rf.named_steps['randomforestclassifier'].feature_importances_\n",
    "features = X_train.columns\n",
    "\n",
    "pd.Series(importances, index=features).sort_values().plot(kind='barh')"
   ]
  }
 ],
 "metadata": {
  "kernelspec": {
   "display_name": "Python 3",
   "language": "python",
   "name": "python3"
  },
  "language_info": {
   "codemirror_mode": {
    "name": "ipython",
    "version": 3
   },
   "file_extension": ".py",
   "mimetype": "text/x-python",
   "name": "python",
   "nbconvert_exporter": "python",
   "pygments_lexer": "ipython3",
   "version": "3.9.1"
  }
 },
 "nbformat": 4,
 "nbformat_minor": 4
}
